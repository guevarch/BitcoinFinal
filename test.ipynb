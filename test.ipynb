{
 "cells": [
  {
   "cell_type": "code",
   "execution_count": 1,
   "metadata": {},
   "outputs": [
    {
     "name": "stderr",
     "output_type": "stream",
     "text": [
      "19:47:07 - cmdstanpy - INFO - Chain [1] start processing\n",
      "19:47:13 - cmdstanpy - INFO - Chain [1] done processing\n"
     ]
    }
   ],
   "source": [
    "# Import Required Modules\n",
    "from flask import Flask, render_template\n",
    "import pandas as pd\n",
    "import json\n",
    "import plotly\n",
    "import plotly.express as px\n",
    "import pandas_ta as pta\n",
    "from plotly.subplots import make_subplots\n",
    "import plotly.graph_objects as go\n",
    "from datetime import date\n",
    "from datetime import timedelta, date\n",
    "from prophet import Prophet\n",
    "import pandas as pd\n",
    "import numpy as np\n",
    "import yfinance as yf\n",
    "\n",
    "\n",
    "\n",
    "\n",
    "df = pd.read_csv(\"Resources/btcjoin.csv\", parse_dates=['date'])\n",
    "btc_df = yf.Ticker('BTC-USD').history(period='7y',interval='1d',actions=False).reset_index()\n",
    "btc_df = btc_df.loc[(btc_df['Date'] > '2022-10-25')]\n",
    "btc_df['Close']=btc_df['Close'].astype(\"float\")\n",
    "df['price']=df['price'].str.replace(',','')\n",
    "df['price']=df['price'].astype(\"float\")\n",
    "btc_df = btc_df.rename(columns={\"Close\": \"price\", \"Date\":\"date\"})\n",
    "df = pd.merge(df, btc_df, on=['date', 'price'], how='outer')\n",
    "df = df.rename(columns={\"value\": \"wallets\"})\n",
    "df = df.drop(columns=['volume','change', 'low', 'high', 'open','Open','High','Low','Unnamed: 0', \"wallets\", \"address\", \"mined\"])\n",
    "df['200D'] = df['price'].rolling(200).mean()\n",
    "df['300D'] = df['price'].rolling(300).mean()\n",
    "df['50D'] = df['price'].rolling(50).mean()\n",
    "df['7D'] = df['price'].rolling(7).mean()\n",
    "# df = df.dropna()\n",
    "df['meanavge'] = (df['200D'] + df['300D'] + df['50D'] )/3\n",
    "# df = df.drop(columns=['200D','300D', '50D'])\n",
    "df['meanvalue'] = df[\"price\"] - df[\"meanavge\"]\n",
    "df['status'] = df['meanvalue'].apply(lambda x: '1' if x > 0 else '0')\n",
    "df['status']=df['status'].astype(\"object\")\n",
    "df['price-meanavge']=df['price'] - df['meanavge']\n",
    "df['move%'] = 100*(df['price-meanavge']/(df['price'] + df['meanavge']))\n",
    "bins = [-43, -18, 0, 18, 43]\n",
    "group_names = [\"Severely Oversold\",\"Neutral Oversold\", \"Neutral Overbought\",\"Severely Overbought\"]\n",
    "df[\"Valuation\"] = pd.cut(df[\"move%\"], bins, labels=group_names)\n",
    "\n",
    "k = df['price'].ewm(span=12, adjust=False, min_periods=12).mean()\n",
    "\n",
    "# Get the 12-day EMA of the closing price\n",
    "d = df['price'].ewm(span=26, adjust=False, min_periods=26).mean()\n",
    "\n",
    "# Subtract the 26-day EMA from the 12-Day EMA to get the MACD\n",
    "macd = k - d\n",
    "\n",
    "# Get the 9-Day EMA of the MACD for the Trigger line\n",
    "macd_s = macd.ewm(span=9, adjust=False, min_periods=9).mean()\n",
    "\n",
    "# Calculate the difference between the MACD - Trigger for the Convergence/Divergence value\n",
    "macd_h = macd - macd_s\n",
    "\n",
    "# Add all of our new values for the MACD to the dataframe\n",
    "df['macd'] = df.index.map(macd)\n",
    "df['macd_h'] = df.index.map(macd_h)\n",
    "df['macd_s'] = df.index.map(macd_s)\n",
    "\n",
    "\n",
    "df['priceL'] = np.log(df['price'])\n",
    "\n",
    "df_train = df[['date', 'priceL']]\n",
    "df_train = df_train.rename(columns = {\"date\":\"ds\", \"priceL\":\"y\"})\n",
    "\n",
    "# instantiate the model and set parameters\n",
    "model = Prophet()\n",
    "\n",
    "# fit the model to historical data\n",
    "model.fit(df_train);\n",
    "\n",
    "start = \"2010-09-25\"\n",
    "end = date.today() + timedelta(days=60)\n",
    "insample = pd.DataFrame(pd.date_range(start,end, periods=92))\n",
    "\n",
    "# Change the column name\n",
    "insample.columns = ['ds']\n",
    "\n",
    "# in-sample prediction\n",
    "prediction = model.predict(insample)\n",
    "\n",
    "\n",
    "# Buy Zones\n",
    "fig = px.scatter(df, x=\"date\", y=\"price\", color=\"Valuation\", color_discrete_sequence=[\"red\",\"green\",\"blue\",\"orange\"],\n",
    "                title=\"price\")\n",
    "fig.add_trace(go.Scatter(name=\"MeanAvg\", x=df['date'], y=df['meanavge'], marker = {'color' : 'black'}, legendrank=2))\n",
    "fig.add_trace(go.Scatter(x=prediction['ds'], y=np.exp(prediction['yhat']),\n",
    "    fill=None,\n",
    "    mode='lines',\n",
    "    line_color='lightblue',\n",
    "    ))\n",
    "fig.add_trace(go.Scatter(\n",
    "    x=prediction['ds'],\n",
    "    y=np.exp(prediction['yhat_lower']),\n",
    "    fill='tonexty', # fill area between trace0 and trace1\n",
    "    mode='lines', line_color='lightblue'))\n",
    "\n",
    "fig.add_trace(go.Scatter(\n",
    "    x=prediction['ds'],\n",
    "    y=np.exp(prediction['yhat_upper']),\n",
    "    fill='tonexty', # fill area between trace0 and trace1\n",
    "    mode='lines', line_color='lightblue'))\n",
    "\n",
    "fig.update_yaxes(fixedrange=False)\n",
    "fig.update_layout(title_text='Bitcoin Prophet Model + Buy Zones')\n",
    "fig.update_yaxes(type=\"log\")\n",
    "fig.update_xaxes(ticklabelposition=\"inside top\", title=\"Date\")\n",
    "fig.update_yaxes(nticks=12)\n",
    "fig.update_xaxes(nticks=50)\n",
    "fig.update_layout(\n",
    "    margin=dict(l=20, r=100, t=70, b=20),\n",
    ")\n",
    "fig.update_layout(height=500, width=1000)\n",
    "fig.update_layout(showlegend=False)\n",
    "fig.add_vline(x='2012-11-28', line_width=3, line_dash=\"dash\", line_color=\"green\")\n",
    "fig.add_vline(x='2016-07-09', line_width=3, line_dash=\"dash\", line_color=\"green\")\t\n",
    "fig.add_vline(x='2020-05-11', line_width=3, line_dash=\"dash\", line_color=\"green\")\t\n",
    "fig.add_vline(x='2024-04-02', line_width=3, line_dash=\"dash\", line_color=\"green\")\n",
    "\n",
    "Buyzones = json.dumps(fig, cls=plotly.utils.PlotlyJSONEncoder)\n",
    "\n",
    "fig = px.scatter(df, x=\"date\", y=\"price\", color=\"Valuation\", color_discrete_sequence=[\"red\",\"green\",\"blue\",\"orange\"],\n",
    "                title=\"price\")\n",
    "fig.add_trace(go.Scatter(name=\"200D\", x=df['date'], y=df['200D'], marker = {'color' : 'red'}, legendrank=2))\n",
    "fig.add_trace(go.Scatter(name=\"MeanAverage\", x=df['date'], y=df['meanavge'], marker = {'color' : 'purple'}, legendrank=2))\n",
    "fig.add_trace(go.Scatter(name=\"50D\", x=df['date'], y=df['50D'], marker = {'color' : 'blue'}, legendrank=2))\n",
    "fig.add_trace(go.Scatter(name=\"300D\", x=df['date'], y=df['300D'], marker = {'color' : 'black'}, legendrank=2))\n",
    "\n",
    "# Moving Averages\n",
    "fig.update_yaxes(fixedrange=False)\n",
    "fig.update_layout(title_text='Moving Averages')\n",
    "fig.update_yaxes(type=\"log\")\n",
    "fig.update_xaxes(ticklabelposition=\"inside top\", title=\"Date\")\n",
    "fig.update_yaxes(nticks=12)\n",
    "fig.update_xaxes(nticks=50)\n",
    "fig.update_layout(margin=dict(l=20, r=100, t=70, b=20))\n",
    "fig.update_layout(height=500, width=1000)\n",
    "fig.update_layout(showlegend=True)\n",
    "fig.add_vline(x='2012-11-28', line_width=3, line_dash=\"dash\", line_color=\"green\")\n",
    "fig.add_vline(x='2016-07-09', line_width=3, line_dash=\"dash\", line_color=\"green\")\t\n",
    "fig.add_vline(x='2020-05-11', line_width=3, line_dash=\"dash\", line_color=\"green\")\t\n",
    "fig.add_vline(x='2024-04-02', line_width=3, line_dash=\"dash\", line_color=\"green\")\n",
    "\n",
    "Movingaverages = json.dumps(fig, cls=plotly.utils.PlotlyJSONEncoder)\n",
    "\n",
    "# MACD\n",
    "\n",
    "df_tail=df.dropna()\n",
    "df_tail = df_tail.tail(360)\n",
    "df_tail.head()\n",
    "\n",
    "df_tail['RSI'] = pta.rsi(df_tail['price'], length = 14)\n",
    "\n",
    "fig = make_subplots(rows=4, cols=1,shared_xaxes=True,vertical_spacing=0.01, row_heights=[0.2, 0.04,0.04,0.04])\n",
    "\n",
    "fig.add_trace(\n",
    "    go.Scatter(name=\"Price\",x=df_tail['date'], y=df_tail['price'],\n",
    "        marker=dict(color=df_tail['macd'], coloraxis=\"coloraxis1\")),\n",
    "    row=1, col=1)\n",
    "\n",
    "\n",
    "fig.add_trace(\n",
    "    go.Bar(name=\"macd\",x=df_tail['date'], y=df_tail['macd'],\n",
    "    marker=dict(color=df_tail['macd'], coloraxis=\"coloraxis1\")),\n",
    "    row=2, col=1)\n",
    "\n",
    "fig.add_trace(\n",
    "    go.Scatter(name=\"macd_s\",x=df_tail['date'], y=df_tail['macd_s'],\n",
    "    marker=dict(color=df_tail['macd_s'], coloraxis=\"coloraxis1\")),\n",
    "    row=2, col=1)\n",
    "\n",
    "fig.add_trace(\n",
    "    go.Scatter(name=\"macd_h\",x=df_tail['date'], y=df_tail['macd_h'],\n",
    "    marker=dict(color=df_tail['macd_h'], coloraxis=\"coloraxis1\")),\n",
    "    row=2, col=1)\n",
    "\n",
    "fig.add_trace(go.Bar(x=df_tail['date'], y=df_tail['move%'],\n",
    "                    marker=dict(color=df_tail['move%'], coloraxis=\"coloraxis2\")),\n",
    "            3, 1)\n",
    "\n",
    "fig.add_trace(\n",
    "    go.Scatter(name=\"RSI\",x=df_tail['date'], y=df_tail['RSI'],\n",
    "    marker=dict(color=df_tail['RSI'], coloraxis=\"coloraxis3\")),\n",
    "    row=4, col=1)\n",
    "\n",
    "fig.update_yaxes(nticks=10)\n",
    "fig.update_xaxes(nticks=50)\n",
    "fig.update_layout(coloraxis1=dict(colorscale='Bluered_r'), showlegend=True)\n",
    "fig.update_layout(coloraxis2=dict(colorscale='Bluered_r'), showlegend=True)\n",
    "fig.update_layout(coloraxis3=dict(colorscale='Bluered_r'), showlegend=True)\n",
    "fig.update_layout(coloraxis1_showscale=False)\n",
    "fig.update_layout(coloraxis2_showscale=False)\n",
    "fig.update_layout(height=700, width=1000, title_text=\"720 Day MACD, RSI, Price and Move%\")\n",
    "fig.update_layout(template='plotly_dark')\n",
    "\n",
    "MACD = json.dumps(fig, cls=plotly.utils.PlotlyJSONEncoder)\n",
    "\n",
    "\n",
    "#Indicators\n",
    "fig = go.Figure(go.Indicator(\n",
    "mode = \"gauge+number\",\n",
    "title = {'text': \"Current Valuation - Standard Deviation percent move from meanaverage\", 'font': {'size': 15}},\n",
    "value = df['move%'].iloc[-1],\n",
    "domain = {'x': [0,1], 'y': [0,1]},\n",
    "gauge = {\n",
    "    'axis': {'range': [-0.43, 0.43], 'tickwidth': 1, 'tickcolor': \"orange\"},\n",
    "    'bar': {'color': \"orange\"},\n",
    "    'bgcolor': \"white\",\n",
    "    'borderwidth': 2,\n",
    "    'bordercolor': \"white\",\n",
    "    'steps': [\n",
    "        {'range': [-0.43, -0.18], 'color': 'red'},\n",
    "        {'range': [-0.18, 0], 'color': 'yellow'},\n",
    "        {'range': [0, 0.18], 'color': 'blue'},\n",
    "        {'range': [0.18,0.43], 'color': 'green'}],\n",
    "    }))\n",
    "\n",
    "fig.update_layout(\n",
    "    font={'color': \"black\", 'family': \"Arial\"},\n",
    "    xaxis={'showgrid': False, 'range':[-1,1]},\n",
    "    yaxis={'showgrid': False, 'range':[0,1.11]},\n",
    "    plot_bgcolor='rgba(0,0,0,0)'\n",
    "    )\n",
    "# Set the visibility ON\n",
    "fig.update_yaxes(title='', visible=True, showticklabels=False)\n",
    "# Set the visibility OFF\n",
    "fig.update_xaxes(title='x', visible=False, showticklabels=False)\n",
    "\n",
    "Indicators = json.dumps(fig, cls=plotly.utils.PlotlyJSONEncoder)\n",
    "\n",
    "# YTD\n",
    "\n",
    "def get_ytd_returns(ticker):\n",
    "    df = yf.Ticker(ticker).history(period='ytd',interval='1d',actions=False).reset_index()\n",
    "    ytd_return = ((df.Close.iloc[-1]/df.Close.iloc[0])-1)\n",
    "    return ytd_return\n",
    "\n",
    "tickers = ['BTC-USD', 'GC=F', 'Cl=F', 'TLT', 'DX=F', '^RUT', '^GSPC', '^IXIC', '^DJI', 'BIGPX']\n",
    "asset_names = ['Bitcoin', 'Gold', 'Oil', '20yr Treasury', 'DXY', 'Russell 2000 Index', 'S&P 500', 'NASDAQ', 'Dow Jones', '60/40']\n",
    "\n",
    "data = [[asset_name, get_ytd_returns(ticker)*100] for asset_name, ticker in zip(asset_names, tickers)]\n",
    "\n",
    "# Create the pandas DataFrame\n",
    "data = pd.DataFrame(data, columns=['Asset', 'YTD%'])\n",
    "data['YTD%'] = data['YTD%'].round(2)\n",
    "\n",
    "fig = px.bar(data, x='YTD%', y='Asset', orientation='h', text=str(\"YTD%\"), color=\"YTD%\",color_continuous_scale=px.colors.sequential.Oryel)\n",
    "fig.layout.yaxis.tickformat = ',.%'\n",
    "fig.update_layout(title_text='Year To Date Returns')\n",
    "fig.update_layout(yaxis=dict(showticklabels=True))\n",
    "fig.update_layout(height=500, width=1000, title_text=\"YTD Returns\")\n",
    "\n",
    "YTD = json.dumps(fig, cls=plotly.utils.PlotlyJSONEncoder)\n",
    "\n",
    "# Corr\n",
    "\n",
    "\n",
    "\n"
   ]
  },
  {
   "cell_type": "code",
   "execution_count": 2,
   "metadata": {},
   "outputs": [
    {
     "data": {
      "application/vnd.plotly.v1+json": {
       "config": {
        "plotlyServerURL": "https://plot.ly"
       },
       "data": [
        {
         "coloraxis": "coloraxis",
         "hovertemplate": "x: %{x}<br>y: %{y}<br>color: %{z}<extra></extra>",
         "name": "0",
         "texttemplate": "%{z:.2f}",
         "type": "heatmap",
         "x": [
          "BTC",
          "DXY",
          "S&P500",
          "Nasdaq",
          "Gold"
         ],
         "xaxis": "x",
         "y": [
          "BTC",
          "DXY",
          "S&P500",
          "Nasdaq",
          "Gold"
         ],
         "yaxis": "y",
         "z": [
          [
           1,
           -0.15,
           0.17,
           0.71,
           0.55
          ],
          [
           -0.15,
           1,
           -0.23,
           -0.04,
           -0.77
          ],
          [
           0.17,
           -0.23,
           1,
           0.74,
           -0.07
          ],
          [
           0.71,
           -0.04,
           0.74,
           1,
           0.17
          ],
          [
           0.55,
           -0.77,
           -0.07,
           0.17,
           1
          ]
         ]
        }
       ],
       "layout": {
        "coloraxis": {
         "colorscale": [
          [
           0,
           "rgb(236, 218, 154)"
          ],
          [
           0.16666666666666666,
           "rgb(239, 196, 126)"
          ],
          [
           0.3333333333333333,
           "rgb(243, 173, 106)"
          ],
          [
           0.5,
           "rgb(247, 148, 93)"
          ],
          [
           0.6666666666666666,
           "rgb(249, 123, 87)"
          ],
          [
           0.8333333333333334,
           "rgb(246, 99, 86)"
          ],
          [
           1,
           "rgb(238, 77, 90)"
          ]
         ]
        },
        "height": 500,
        "margin": {
         "t": 60
        },
        "template": {
         "data": {
          "bar": [
           {
            "error_x": {
             "color": "#2a3f5f"
            },
            "error_y": {
             "color": "#2a3f5f"
            },
            "marker": {
             "line": {
              "color": "#E5ECF6",
              "width": 0.5
             },
             "pattern": {
              "fillmode": "overlay",
              "size": 10,
              "solidity": 0.2
             }
            },
            "type": "bar"
           }
          ],
          "barpolar": [
           {
            "marker": {
             "line": {
              "color": "#E5ECF6",
              "width": 0.5
             },
             "pattern": {
              "fillmode": "overlay",
              "size": 10,
              "solidity": 0.2
             }
            },
            "type": "barpolar"
           }
          ],
          "carpet": [
           {
            "aaxis": {
             "endlinecolor": "#2a3f5f",
             "gridcolor": "white",
             "linecolor": "white",
             "minorgridcolor": "white",
             "startlinecolor": "#2a3f5f"
            },
            "baxis": {
             "endlinecolor": "#2a3f5f",
             "gridcolor": "white",
             "linecolor": "white",
             "minorgridcolor": "white",
             "startlinecolor": "#2a3f5f"
            },
            "type": "carpet"
           }
          ],
          "choropleth": [
           {
            "colorbar": {
             "outlinewidth": 0,
             "ticks": ""
            },
            "type": "choropleth"
           }
          ],
          "contour": [
           {
            "colorbar": {
             "outlinewidth": 0,
             "ticks": ""
            },
            "colorscale": [
             [
              0,
              "#0d0887"
             ],
             [
              0.1111111111111111,
              "#46039f"
             ],
             [
              0.2222222222222222,
              "#7201a8"
             ],
             [
              0.3333333333333333,
              "#9c179e"
             ],
             [
              0.4444444444444444,
              "#bd3786"
             ],
             [
              0.5555555555555556,
              "#d8576b"
             ],
             [
              0.6666666666666666,
              "#ed7953"
             ],
             [
              0.7777777777777778,
              "#fb9f3a"
             ],
             [
              0.8888888888888888,
              "#fdca26"
             ],
             [
              1,
              "#f0f921"
             ]
            ],
            "type": "contour"
           }
          ],
          "contourcarpet": [
           {
            "colorbar": {
             "outlinewidth": 0,
             "ticks": ""
            },
            "type": "contourcarpet"
           }
          ],
          "heatmap": [
           {
            "colorbar": {
             "outlinewidth": 0,
             "ticks": ""
            },
            "colorscale": [
             [
              0,
              "#0d0887"
             ],
             [
              0.1111111111111111,
              "#46039f"
             ],
             [
              0.2222222222222222,
              "#7201a8"
             ],
             [
              0.3333333333333333,
              "#9c179e"
             ],
             [
              0.4444444444444444,
              "#bd3786"
             ],
             [
              0.5555555555555556,
              "#d8576b"
             ],
             [
              0.6666666666666666,
              "#ed7953"
             ],
             [
              0.7777777777777778,
              "#fb9f3a"
             ],
             [
              0.8888888888888888,
              "#fdca26"
             ],
             [
              1,
              "#f0f921"
             ]
            ],
            "type": "heatmap"
           }
          ],
          "heatmapgl": [
           {
            "colorbar": {
             "outlinewidth": 0,
             "ticks": ""
            },
            "colorscale": [
             [
              0,
              "#0d0887"
             ],
             [
              0.1111111111111111,
              "#46039f"
             ],
             [
              0.2222222222222222,
              "#7201a8"
             ],
             [
              0.3333333333333333,
              "#9c179e"
             ],
             [
              0.4444444444444444,
              "#bd3786"
             ],
             [
              0.5555555555555556,
              "#d8576b"
             ],
             [
              0.6666666666666666,
              "#ed7953"
             ],
             [
              0.7777777777777778,
              "#fb9f3a"
             ],
             [
              0.8888888888888888,
              "#fdca26"
             ],
             [
              1,
              "#f0f921"
             ]
            ],
            "type": "heatmapgl"
           }
          ],
          "histogram": [
           {
            "marker": {
             "pattern": {
              "fillmode": "overlay",
              "size": 10,
              "solidity": 0.2
             }
            },
            "type": "histogram"
           }
          ],
          "histogram2d": [
           {
            "colorbar": {
             "outlinewidth": 0,
             "ticks": ""
            },
            "colorscale": [
             [
              0,
              "#0d0887"
             ],
             [
              0.1111111111111111,
              "#46039f"
             ],
             [
              0.2222222222222222,
              "#7201a8"
             ],
             [
              0.3333333333333333,
              "#9c179e"
             ],
             [
              0.4444444444444444,
              "#bd3786"
             ],
             [
              0.5555555555555556,
              "#d8576b"
             ],
             [
              0.6666666666666666,
              "#ed7953"
             ],
             [
              0.7777777777777778,
              "#fb9f3a"
             ],
             [
              0.8888888888888888,
              "#fdca26"
             ],
             [
              1,
              "#f0f921"
             ]
            ],
            "type": "histogram2d"
           }
          ],
          "histogram2dcontour": [
           {
            "colorbar": {
             "outlinewidth": 0,
             "ticks": ""
            },
            "colorscale": [
             [
              0,
              "#0d0887"
             ],
             [
              0.1111111111111111,
              "#46039f"
             ],
             [
              0.2222222222222222,
              "#7201a8"
             ],
             [
              0.3333333333333333,
              "#9c179e"
             ],
             [
              0.4444444444444444,
              "#bd3786"
             ],
             [
              0.5555555555555556,
              "#d8576b"
             ],
             [
              0.6666666666666666,
              "#ed7953"
             ],
             [
              0.7777777777777778,
              "#fb9f3a"
             ],
             [
              0.8888888888888888,
              "#fdca26"
             ],
             [
              1,
              "#f0f921"
             ]
            ],
            "type": "histogram2dcontour"
           }
          ],
          "mesh3d": [
           {
            "colorbar": {
             "outlinewidth": 0,
             "ticks": ""
            },
            "type": "mesh3d"
           }
          ],
          "parcoords": [
           {
            "line": {
             "colorbar": {
              "outlinewidth": 0,
              "ticks": ""
             }
            },
            "type": "parcoords"
           }
          ],
          "pie": [
           {
            "automargin": true,
            "type": "pie"
           }
          ],
          "scatter": [
           {
            "fillpattern": {
             "fillmode": "overlay",
             "size": 10,
             "solidity": 0.2
            },
            "type": "scatter"
           }
          ],
          "scatter3d": [
           {
            "line": {
             "colorbar": {
              "outlinewidth": 0,
              "ticks": ""
             }
            },
            "marker": {
             "colorbar": {
              "outlinewidth": 0,
              "ticks": ""
             }
            },
            "type": "scatter3d"
           }
          ],
          "scattercarpet": [
           {
            "marker": {
             "colorbar": {
              "outlinewidth": 0,
              "ticks": ""
             }
            },
            "type": "scattercarpet"
           }
          ],
          "scattergeo": [
           {
            "marker": {
             "colorbar": {
              "outlinewidth": 0,
              "ticks": ""
             }
            },
            "type": "scattergeo"
           }
          ],
          "scattergl": [
           {
            "marker": {
             "colorbar": {
              "outlinewidth": 0,
              "ticks": ""
             }
            },
            "type": "scattergl"
           }
          ],
          "scattermapbox": [
           {
            "marker": {
             "colorbar": {
              "outlinewidth": 0,
              "ticks": ""
             }
            },
            "type": "scattermapbox"
           }
          ],
          "scatterpolar": [
           {
            "marker": {
             "colorbar": {
              "outlinewidth": 0,
              "ticks": ""
             }
            },
            "type": "scatterpolar"
           }
          ],
          "scatterpolargl": [
           {
            "marker": {
             "colorbar": {
              "outlinewidth": 0,
              "ticks": ""
             }
            },
            "type": "scatterpolargl"
           }
          ],
          "scatterternary": [
           {
            "marker": {
             "colorbar": {
              "outlinewidth": 0,
              "ticks": ""
             }
            },
            "type": "scatterternary"
           }
          ],
          "surface": [
           {
            "colorbar": {
             "outlinewidth": 0,
             "ticks": ""
            },
            "colorscale": [
             [
              0,
              "#0d0887"
             ],
             [
              0.1111111111111111,
              "#46039f"
             ],
             [
              0.2222222222222222,
              "#7201a8"
             ],
             [
              0.3333333333333333,
              "#9c179e"
             ],
             [
              0.4444444444444444,
              "#bd3786"
             ],
             [
              0.5555555555555556,
              "#d8576b"
             ],
             [
              0.6666666666666666,
              "#ed7953"
             ],
             [
              0.7777777777777778,
              "#fb9f3a"
             ],
             [
              0.8888888888888888,
              "#fdca26"
             ],
             [
              1,
              "#f0f921"
             ]
            ],
            "type": "surface"
           }
          ],
          "table": [
           {
            "cells": {
             "fill": {
              "color": "#EBF0F8"
             },
             "line": {
              "color": "white"
             }
            },
            "header": {
             "fill": {
              "color": "#C8D4E3"
             },
             "line": {
              "color": "white"
             }
            },
            "type": "table"
           }
          ]
         },
         "layout": {
          "annotationdefaults": {
           "arrowcolor": "#2a3f5f",
           "arrowhead": 0,
           "arrowwidth": 1
          },
          "autotypenumbers": "strict",
          "coloraxis": {
           "colorbar": {
            "outlinewidth": 0,
            "ticks": ""
           }
          },
          "colorscale": {
           "diverging": [
            [
             0,
             "#8e0152"
            ],
            [
             0.1,
             "#c51b7d"
            ],
            [
             0.2,
             "#de77ae"
            ],
            [
             0.3,
             "#f1b6da"
            ],
            [
             0.4,
             "#fde0ef"
            ],
            [
             0.5,
             "#f7f7f7"
            ],
            [
             0.6,
             "#e6f5d0"
            ],
            [
             0.7,
             "#b8e186"
            ],
            [
             0.8,
             "#7fbc41"
            ],
            [
             0.9,
             "#4d9221"
            ],
            [
             1,
             "#276419"
            ]
           ],
           "sequential": [
            [
             0,
             "#0d0887"
            ],
            [
             0.1111111111111111,
             "#46039f"
            ],
            [
             0.2222222222222222,
             "#7201a8"
            ],
            [
             0.3333333333333333,
             "#9c179e"
            ],
            [
             0.4444444444444444,
             "#bd3786"
            ],
            [
             0.5555555555555556,
             "#d8576b"
            ],
            [
             0.6666666666666666,
             "#ed7953"
            ],
            [
             0.7777777777777778,
             "#fb9f3a"
            ],
            [
             0.8888888888888888,
             "#fdca26"
            ],
            [
             1,
             "#f0f921"
            ]
           ],
           "sequentialminus": [
            [
             0,
             "#0d0887"
            ],
            [
             0.1111111111111111,
             "#46039f"
            ],
            [
             0.2222222222222222,
             "#7201a8"
            ],
            [
             0.3333333333333333,
             "#9c179e"
            ],
            [
             0.4444444444444444,
             "#bd3786"
            ],
            [
             0.5555555555555556,
             "#d8576b"
            ],
            [
             0.6666666666666666,
             "#ed7953"
            ],
            [
             0.7777777777777778,
             "#fb9f3a"
            ],
            [
             0.8888888888888888,
             "#fdca26"
            ],
            [
             1,
             "#f0f921"
            ]
           ]
          },
          "colorway": [
           "#636efa",
           "#EF553B",
           "#00cc96",
           "#ab63fa",
           "#FFA15A",
           "#19d3f3",
           "#FF6692",
           "#B6E880",
           "#FF97FF",
           "#FECB52"
          ],
          "font": {
           "color": "#2a3f5f"
          },
          "geo": {
           "bgcolor": "white",
           "lakecolor": "white",
           "landcolor": "#E5ECF6",
           "showlakes": true,
           "showland": true,
           "subunitcolor": "white"
          },
          "hoverlabel": {
           "align": "left"
          },
          "hovermode": "closest",
          "mapbox": {
           "style": "light"
          },
          "paper_bgcolor": "white",
          "plot_bgcolor": "#E5ECF6",
          "polar": {
           "angularaxis": {
            "gridcolor": "white",
            "linecolor": "white",
            "ticks": ""
           },
           "bgcolor": "#E5ECF6",
           "radialaxis": {
            "gridcolor": "white",
            "linecolor": "white",
            "ticks": ""
           }
          },
          "scene": {
           "xaxis": {
            "backgroundcolor": "#E5ECF6",
            "gridcolor": "white",
            "gridwidth": 2,
            "linecolor": "white",
            "showbackground": true,
            "ticks": "",
            "zerolinecolor": "white"
           },
           "yaxis": {
            "backgroundcolor": "#E5ECF6",
            "gridcolor": "white",
            "gridwidth": 2,
            "linecolor": "white",
            "showbackground": true,
            "ticks": "",
            "zerolinecolor": "white"
           },
           "zaxis": {
            "backgroundcolor": "#E5ECF6",
            "gridcolor": "white",
            "gridwidth": 2,
            "linecolor": "white",
            "showbackground": true,
            "ticks": "",
            "zerolinecolor": "white"
           }
          },
          "shapedefaults": {
           "line": {
            "color": "#2a3f5f"
           }
          },
          "ternary": {
           "aaxis": {
            "gridcolor": "white",
            "linecolor": "white",
            "ticks": ""
           },
           "baxis": {
            "gridcolor": "white",
            "linecolor": "white",
            "ticks": ""
           },
           "bgcolor": "#E5ECF6",
           "caxis": {
            "gridcolor": "white",
            "linecolor": "white",
            "ticks": ""
           }
          },
          "title": {
           "x": 0.05
          },
          "xaxis": {
           "automargin": true,
           "gridcolor": "white",
           "linecolor": "white",
           "ticks": "",
           "title": {
            "standoff": 15
           },
           "zerolinecolor": "white",
           "zerolinewidth": 2
          },
          "yaxis": {
           "automargin": true,
           "gridcolor": "white",
           "linecolor": "white",
           "ticks": "",
           "title": {
            "standoff": 15
           },
           "zerolinecolor": "white",
           "zerolinewidth": 2
          }
         }
        },
        "title": {
         "text": "Correlation Matrix"
        },
        "width": 1000,
        "xaxis": {
         "anchor": "y",
         "domain": [
          0,
          1
         ]
        },
        "yaxis": {
         "anchor": "x",
         "autorange": "reversed",
         "domain": [
          0,
          1
         ]
        }
       }
      }
     },
     "metadata": {},
     "output_type": "display_data"
    }
   ],
   "source": [
    "tickers_list = ['BTC-USD','DX=F', '^GSPC', '^IXIC', 'GC=F']\n",
    "\n",
    "# Fetch data for all tickers using a for loop\n",
    "data = {}\n",
    "for ticker in tickers_list:\n",
    "    data[ticker] = yf.Ticker(ticker).history(period='3mo', interval='1d', actions=False)['Close']\n",
    "\n",
    "# Filter out NaN values using list comprehension\n",
    "data = {ticker: close[~close.isna()] for ticker, close in data.items()}\n",
    "\n",
    "# Merge data using inner join\n",
    "merge = pd.concat(data, axis=1, join='inner')\n",
    "merge.columns = [ticker for ticker, close in data.items()]\n",
    "\n",
    "# Rename columns\n",
    "merge = merge.rename(columns={\"BTC-USD\": \"BTC\", \"DX=F\": \"DXY\", \"^GSPC\": \"S&P500\", \"^IXIC\": \"Nasdaq\", \"GC=F\": \"Gold\"})\n",
    "assets = [('DXY', 'DXY/BTC'), ('S&P500', 'S&P500/BTC'), ('Nasdaq', 'Nasdaq/BTC'), ('Gold', 'Gold/BTC')]\n",
    "\n",
    "# Use a for loop to calculate the correlation for each asset pair\n",
    "correlations = {}\n",
    "for asset, col_name in assets:\n",
    "    correlations[col_name] = merge['BTC'].rolling(3).corr(merge[asset])\n",
    "\n",
    "merge = merge.assign(**correlations).dropna().reset_index()\n",
    "corr_matrix=merge.drop(columns=['DXY/BTC','S&P500/BTC', 'Nasdaq/BTC', 'Gold/BTC'])\n",
    "corr_matrix = corr_matrix.corr().round(2)\n",
    "fig = px.imshow(corr_matrix,color_continuous_scale='Oryel',text_auto=\".2f\", aspect=\"auto\")\n",
    "fig.update_layout(height=500, width=1000, title_text=\"Correlation Matrix\")\n",
    "\n",
    "fig.show()"
   ]
  },
  {
   "cell_type": "code",
   "execution_count": 3,
   "metadata": {},
   "outputs": [
    {
     "ename": "NameError",
     "evalue": "name 'mpld3' is not defined",
     "output_type": "error",
     "traceback": [
      "\u001b[1;31m---------------------------------------------------------------------------\u001b[0m",
      "\u001b[1;31mNameError\u001b[0m                                 Traceback (most recent call last)",
      "\u001b[1;32mc:\\Users\\16474\\Desktop\\Coding\\BitcoinFinal\\test.ipynb Cell 3\u001b[0m in \u001b[0;36m<cell line: 8>\u001b[1;34m()\u001b[0m\n\u001b[0;32m      <a href='vscode-notebook-cell:/c%3A/Users/16474/Desktop/Coding/BitcoinFinal/test.ipynb#W2sZmlsZQ%3D%3D?line=3'>4</a>\u001b[0m get_ipython()\u001b[39m.\u001b[39mrun_line_magic(\u001b[39m'\u001b[39m\u001b[39mmatplotlib\u001b[39m\u001b[39m'\u001b[39m, \u001b[39m'\u001b[39m\u001b[39minline\u001b[39m\u001b[39m'\u001b[39m)\n\u001b[0;32m      <a href='vscode-notebook-cell:/c%3A/Users/16474/Desktop/Coding/BitcoinFinal/test.ipynb#W2sZmlsZQ%3D%3D?line=6'>7</a>\u001b[0m sns\u001b[39m.\u001b[39mheatmap(corr_matrix, annot\u001b[39m=\u001b[39m\u001b[39mTrue\u001b[39;00m)\n\u001b[1;32m----> <a href='vscode-notebook-cell:/c%3A/Users/16474/Desktop/Coding/BitcoinFinal/test.ipynb#W2sZmlsZQ%3D%3D?line=7'>8</a>\u001b[0m json_figs \u001b[39m=\u001b[39m mpld3\u001b[39m.\u001b[39mfig_to_dict(fig)\n",
      "\u001b[1;31mNameError\u001b[0m: name 'mpld3' is not defined"
     ]
    },
    {
     "data": {
      "image/png": "[encoded data removed]",
      "text/plain": [
       "<Figure size 432x288 with 2 Axes>"
      ]
     },
     "metadata": {
      "needs_background": "light"
     },
     "output_type": "display_data"
    }
   ],
   "source": [
    "import numpy as np \n",
    "from pandas import DataFrame\n",
    "import seaborn as sns\n",
    "%matplotlib inline\n",
    "\n",
    "\n",
    "sns.heatmap(corr_matrix, annot=True)\n",
    "json_figs = mpld3.fig_to_dict(fig)"
   ]
  },
  {
   "cell_type": "code",
   "execution_count": null,
   "metadata": {},
   "outputs": [],
   "source": [
    "import json\n",
    "import numpy as np\n",
    "import mpld3\n",
    "import matplotlib.pyplot as plt\n",
    "\n",
    "# create a 2D numpy array to use as the heatmap data\n",
    "heatmap_data = np.random.rand(10, 10)\n",
    "\n",
    "# create the heatmap using matplotlib\n",
    "fig, ax = plt.subplots()\n",
    "heatmap = ax.imshow(heatmap_data, cmap='YlOrRd')\n",
    "\n",
    "# add annotations to the heatmap\n",
    "for i in range(heatmap_data.shape[0]):\n",
    "    for j in range(heatmap_data.shape[1]):\n",
    "        text = ax.text(j, i, f\"{heatmap_data[i, j]:.2f}\", ha=\"center\", va=\"center\", color=\"black\")\n",
    "\n",
    "# add a colorbar to the heatmap\n",
    "colorbar = plt.colorbar(heatmap)\n",
    "\n",
    "# convert the figure to a JSON-compatible object using mpld3\n",
    "json_figs = mpld3.fig_to_dict(fig)\n",
    "\n",
    "# encode the JSON object to a string using json.dumps()\n",
    "corr1 = json.dumps(json_figs)\n",
    "\n"
   ]
  }
 ],
 "metadata": {
  "kernelspec": {
   "display_name": "PythonData",
   "language": "python",
   "name": "pythondata"
  },
  "language_info": {
   "codemirror_mode": {
    "name": "ipython",
    "version": 3
   },
   "file_extension": ".py",
   "mimetype": "text/x-python",
   "name": "python",
   "nbconvert_exporter": "python",
   "pygments_lexer": "ipython3",
   "version": "3.9.12"
  },
  "orig_nbformat": 4
 },
 "nbformat": 4,
 "nbformat_minor": 2
}
